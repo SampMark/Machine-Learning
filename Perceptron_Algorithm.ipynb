{
  "nbformat": 4,
  "nbformat_minor": 0,
  "metadata": {
    "colab": {
      "provenance": [],
      "authorship_tag": "ABX9TyM6JiNJEXGJYSxAz0mb0uto",
      "include_colab_link": true
    },
    "kernelspec": {
      "name": "python3",
      "display_name": "Python 3"
    },
    "language_info": {
      "name": "python"
    }
  },
  "cells": [
    {
      "cell_type": "markdown",
      "metadata": {
        "id": "view-in-github",
        "colab_type": "text"
      },
      "source": [
        "<a href=\"https://colab.research.google.com/github/SampMark/Machine-Learning/blob/main/Perceptron_Algorithm.ipynb\" target=\"_parent\"><img src=\"https://colab.research.google.com/assets/colab-badge.svg\" alt=\"Open In Colab\"/></a>"
      ]
    },
    {
      "cell_type": "markdown",
      "source": [
        "# **O Algoritmo de Perceptron**\n",
        "\n",
        "O Perceptron é um dos algoritmos mais simples de aprendizado supervisionado e um dos primeiros modelos de redes neurais artificiais. O Perceptron serviu de base para o desenvolvimento de modelos mais avançados, como o **Perceptron Multicamadas (MLP)**, utilizado em **Redes Neurais** modernas.\n",
        "\n",
        "O Perceptron é um classificador linear utilizado para dividir dados em duas classes separáveis, que ajusta os pesos iterativamente para encontrar uma reta ou hiperplano (no caso de dimensões maiores) que separa os dados de maneira ótima, caso sejam linearmente separáveis.\n",
        "\n",
        "O algoritmo Perceptron recebe as seguintes entradas:\n",
        "\n",
        "* Um **conjunto de treinamento** de exemplos rotulados, onde cada exemplo consiste em um vetor de características (x) e um rótulo correspondente (y).\n",
        "* O número de iterações (T) para executar o algoritmo.\n",
        "\n",
        "O algoritmo inicializa um vetor de parâmetros $(θ)$ para 0 e itera pelo conjunto de treinamento $T$ vezes. Para cada exemplo, o Perceptron verifica se o classificador atual classifica incorretamente o exemplo. Se isso acontecer, o algoritmo atualiza o vetor de parâmetros para corrigir o erro.\n",
        "\n",
        "O Perceptron aprende ajustando os pesos e o viés para corrigir erros. A cada erro cometido, a regra de atualização move a fronteira de decisão na direção do exemplo mal classificado, tornando a predição futura mais provável de estar correta.\n",
        "\n",
        "O algoritmo Perceptron é simples e poderoso, que pode ser usado para aprender classificadores lineares. É garantido que ele encontre uma solução viável, se o conjunto de treinamento for linearmente separável.\n",
        "\n",
        "### **Funcionamento do Algoritmo Perceptron**\n",
        "\n",
        "O Perceptron aprende ajustando os pesos $ \\theta $ e o viés $ \\theta_0 $ para corrigir erros. Cada vez que um erro ocorre, a **regra de atualização** move a fronteira de decisão na **direção do exemplo mal classificado**, tornando mais provável que futuras previsões estejam corretas.\n",
        "\n",
        "Se o conjunto de dados for **linearmente separável**, é **garantido** o algoritmo convergir para uma solução que separá perfeitamente as classes em um número finito de iterações. No entanto, se os dados **não forem linearmente separáveis**, o Perceptron nunca convergirá e continuará realizando atualizações indefinidamente. A seguir uma breve descrição das etapas de funcionamento:\n",
        "\n",
        "1. **Inicialização**: começa com um vetor de pesos $\\theta$ inicializado com zeros ou valores pequenos aleatórios.\n",
        "2. **Predição**: para cada ponto de dados $x^{(i)}$, calcula a previsão $ \\hat{y}^{(i)} = \\text{sign}(\\theta \\cdot x^{(i)}) $.\n",
        "3. **Atualização**: caso a previsão esteja incorreta (ou seja, $ \\hat{y}^{(i)} \\neq y^{(i)} $), atualiza o vetor de pesos: $ \\theta = \\theta + y^{(i)} x^{(i)} $.\n",
        "4. **Iteração**: repite o processo até que todos os pontos de dados sejam classificados corretamente ou até que um número máximo de iterações seja atingido.\n",
        "\n",
        "## **Definição Matemática**\n",
        "\n",
        "Dado um **conjunto de treinamento** $ S = \\{(x^{(i)}, y^{(i)})\\}_{i=1}^{n} $, composto por $n$ amostras:\n",
        "\n",
        "$$\n",
        "(x_1, y_1), (x_2, y_2), ..., (x_n, y_n)\n",
        "$$\n",
        "\n",
        "onde:\n",
        "\n",
        "- $x_i \\in \\mathbb{R}^d$ é um vetor de características do exemplo $i$,\n",
        "- $y_i \\in \\{-1, 1\\}$ é o rótulo associado a $x_i$.\n",
        "\n",
        "O Perceptron aprende um vetor de pesos $w$ tal que a predição seja dada por:\n",
        "\n",
        "$$\n",
        "\\hat{y} = \\text{sign}(w \\cdot x + b)\n",
        "$$\n",
        "\n",
        "Onde:\n",
        "* $b$ é o viés (bias), e;\n",
        "* $\\text{sign}(\\cdot)$ é a função que retorna $1$ se o valor for positivo e $-1$ caso contrário.\n",
        "\n",
        "O **algoritmo de atualização** do Perceptron segue os seguintes passos:\n",
        "\n",
        "1. Inicializa $w = 0$ e $b = 0$.\n",
        "2. Para cada amostra $(x_i, y_i)$:\n",
        "   - Se $y_i(w \\cdot x_i + b) \\leq 0$, atualiza:\n",
        "\n",
        "$$\n",
        "w \\leftarrow w + y_i x_i\n",
        "$$\n",
        "\n",
        "$$\n",
        "b \\leftarrow b + y_i\n",
        "$$\n",
        "\n",
        "3. O processo é repetido até que **todos os exemplos sejam classificados corretamente** ou até atingir o limite de iterações $T$.\n",
        "\n",
        "### **Algumas Limitações do Perceptron**\n",
        "\n",
        "- O algoritmo só funciona para **dados linearmente separáveis**.\n",
        "- Não lida bem com **outliers**.\n",
        "- Para problemas mais complexos, como aqueles que requerem **fronteiras de decisão não lineares**. Há outras abordagens mais robustas, como **Redes Neurais** e **SVMs** para tal.\n",
        "\n",
        "## **Importando as bibliotecas**\n",
        "---"
      ],
      "metadata": {
        "id": "E-wkdONCLhBP"
      }
    },
    {
      "cell_type": "code",
      "source": [
        "import numpy as np\n",
        "import matplotlib.pyplot as plt"
      ],
      "metadata": {
        "id": "5XdmOZACLMaz"
      },
      "execution_count": 1,
      "outputs": []
    },
    {
      "cell_type": "markdown",
      "source": [
        "## **Implementação do Algoritmo do Perceptron**\n",
        "\n",
        "---\n",
        "Os parâmetros do perceptron (θ e θ₀) serão atualizados sempre que um exemplo de treinamento for classificado incorretamente ou estiver na fronteira de decisão. A função `perceptron_single_step_update` verifica se a margem (produto do rótulo pelo valor da decisão) é menor ou igual a zero (considerando uma pequena tolerância ε para lidar com imprecisões numéricas). Se for, os parâmetros serão atualizados.\n",
        "\n",
        "### **Explicação**:\n",
        "1. **Cálculo da decisão e margem:**\n",
        "   * `decision = np.dot(current_theta, feature_vector) + current_theta_0`: calcula o valor da função de decisão (θ·x + θ₀).\n",
        "   * `margin = label * decision`: calcula a margem (produto do rótulo pelo valor da decisão).\n",
        "\n",
        "2. **Condição de atualização:**\n",
        "   * Se a margem for menor ou igual a `epsilon` (um valor próximo de zero), o exemplo é considerado mal classificado ou na fronteira, e os parâmetros são atualizados:\n",
        "     - `new_theta = current_theta + (label * feature_vector)`: atualiza θ somando o vetor de características multiplicado pelo rótulo.\n",
        "     - `new_theta_0 = current_theta_0 + label`: Atualiza θ₀ somando o rótulo.\n",
        "\n",
        "3. **Tratamento de precisão numérica:**\n",
        "   * `epsilon = 1e-8`: define uma tolerância para evitar erros de precisão em cálculos de ponto flutuante. Valores dentro de `[-epsilon, epsilon]` são tratados como zero."
      ],
      "metadata": {
        "id": "oz456f6DZJMB"
      }
    },
    {
      "cell_type": "code",
      "source": [
        "def perceptron_single_step_update(feature_vector, label, current_theta, current_theta_0):\n",
        "    \"\"\"\n",
        "    Realiza atualização de um único passo do Perceptron com base em um exemplo de treino.\n",
        "    O código verifica se um exemplo de treinamento está corretamente classificado.\n",
        "    Caso contrário, atualiza os pesos para melhorar a classificação.\n",
        "\n",
        "    Parâmetros:\n",
        "    feature_vector : np.array, vetor de características do exemplo de entrada.\n",
        "    label : int, rótulo associado ao exemplo, assumindo valores {+1, -1}.\n",
        "    current_theta : np.array, vetor de pesos atual do modelo.\n",
        "    current_theta_0 : float, termo de viés (bias) atual do modelo.\n",
        "\n",
        "    Retorno:\n",
        "    new_theta : np.array, vetor de pesos atualizado, caso a classificação seja incorreta.\n",
        "    new_theta_0 : float, termo de viés atualizado, caso a classificação seja incorreta.\n",
        "    \"\"\"\n",
        "    epsilon = 1e-8  # Pequeno valor para tolerância numérica, evita problemas de arredondamento\n",
        "\n",
        "    # Calcula a predição: θ·x + θ₀\n",
        "    decision = np.dot(current_theta, feature_vector) + current_theta_0\n",
        "\n",
        "    # Calcula a margem de decisão: y * (θ·x + θ₀)\n",
        "    margin = label * decision\n",
        "\n",
        "    # Verifica se a margem é menor ou igual a zero (considerando erro numérico)\n",
        "    if margin <= epsilon:\n",
        "        eta = 0.1  # Taxa de aprendizado\n",
        "        # Atualiza θ e θ₀ se houver erro ou estiver na fronteira\n",
        "        new_theta = current_theta + (label * feature_vector)\n",
        "        new_theta_0 = current_theta_0 + label\n",
        "        return (new_theta.astype(float), float(new_theta_0))\n",
        "    else:\n",
        "        # Retorna os parâmetros atuais se não houver erro\n",
        "        return (current_theta.astype(float), float(current_theta_0))"
      ],
      "metadata": {
        "id": "jO4x4wz3Y206"
      },
      "execution_count": 2,
      "outputs": []
    },
    {
      "cell_type": "code",
      "source": [
        "# Exemplo de vetor de características, rótulo, θ e θ₀ iniciais\n",
        "feature_vector = np.array([1, 2])\n",
        "label = 1\n",
        "current_theta = np.array([0, 0])\n",
        "current_theta_0 = 0\n",
        "\n",
        "# Atualiza os parâmetros\n",
        "new_theta, new_theta_0 = perceptron_single_step_update(feature_vector, label, current_theta, current_theta_0)\n",
        "print(\"Novo θ:\", new_theta)       # Saída: [1. 2.]\n",
        "print(\"Novo θ₀:\", new_theta_0)    # Saída: 1.0"
      ],
      "metadata": {
        "colab": {
          "base_uri": "https://localhost:8080/"
        },
        "id": "pu49R528Y9zU",
        "outputId": "146e73b3-c37a-4ce5-dcd7-e132ac2a2dbb"
      },
      "execution_count": 3,
      "outputs": [
        {
          "output_type": "stream",
          "name": "stdout",
          "text": [
            "Novo θ: [1. 2.]\n",
            "Novo θ₀: 1.0\n"
          ]
        }
      ]
    },
    {
      "cell_type": "markdown",
      "source": [
        "## **Algoritmo Perceptron Completo**\n",
        "\n",
        "---\n",
        "\n"
      ],
      "metadata": {
        "id": "eBepEGgLkEsB"
      }
    },
    {
      "cell_type": "code",
      "source": [
        "def get_order(n_samples):\n",
        "    return np.random.permutation(n_samples)  # Embaralha os índices"
      ],
      "metadata": {
        "id": "VtzB0KOHhrC7"
      },
      "execution_count": 4,
      "outputs": []
    },
    {
      "cell_type": "code",
      "source": [
        "def perceptron(feature_matrix, labels, T):\n",
        "    n_samples, n_features = feature_matrix.shape\n",
        "    theta = np.zeros(n_features)  # Inicializa theta como um array 1D\n",
        "    theta_0 = 0.0\n",
        "\n",
        "    for _ in range(T):\n",
        "        order = get_order(n_samples)  # Obtém a ordem dos índices para a iteração atual\n",
        "        for i in order:\n",
        "            x_i = feature_matrix[i]  # Vetor de características do i-ésimo exemplo\n",
        "            y_i = labels[i]          # Rótulo correto do i-ésimo exemplo\n",
        "\n",
        "            # Calcula a margem: y_i * (θ·x_i + θ_0)\n",
        "            margin = y_i * (np.dot(theta, x_i) + theta_0)\n",
        "\n",
        "            # Se a margem for <= 0, atualiza θ e θ_0\n",
        "            if margin <= 0:\n",
        "                theta += y_i * x_i\n",
        "                theta_0 += y_i\n",
        "\n",
        "    return (theta.astype(float), float(theta_0))"
      ],
      "metadata": {
        "id": "H6zFgVaBgmGF"
      },
      "execution_count": 5,
      "outputs": []
    },
    {
      "cell_type": "code",
      "source": [
        "def perceptron(feature_matrix, labels, T):\n",
        "    \"\"\"\n",
        "    Implementa o algoritmo do Perceptron para aprendizado supervisionado.\n",
        "\n",
        "    Parâmetros:\n",
        "    feature_matrix : np.array, shape (n_samples, n_features)\n",
        "        Matriz de características onde cada linha representa um exemplo de\n",
        "        treinamento e cada coluna representa uma característica.\n",
        "\n",
        "    labels : np.array, shape (n_samples,)\n",
        "        Vetor contendo os rótulos dos exemplos de treinamento, assumindo\n",
        "        valores {+1, -1}.\n",
        "\n",
        "    T : int, Número de épocas (iterações completas sobre o conjunto de dados).\n",
        "\n",
        "    Retorno:\n",
        "    theta : np.array, shape (n_features,), vetor de pesos aprendido pelo Perceptron.\n",
        "    theta_0 : float, termo de viés (bias) aprendido pelo Perceptron.\n",
        "\n",
        "    Observações:\n",
        "    -----------\n",
        "    - O algoritmo itera sobre os exemplos de treinamento `T` vezes.\n",
        "    - A atualização dos pesos ocorre apenas quando um exemplo estiver classificado incorretamente\n",
        "      (ou seja, quando `y_i * (theta ⋅ x_i + theta_0) <= 0`).\n",
        "    - A função `get_order(n_samples)` deve ser definida previamente para gerar uma ordem\n",
        "      aleatória dos exemplos em cada época, o que pode ajudar na convergência.\n",
        "    \"\"\"\n",
        "    n_samples, n_features = feature_matrix.shape\n",
        "    theta = np.zeros(n_features, dtype=float)  # Inicializa vetor de pesos\n",
        "    theta_0 = 0.0  # Inicializa viés (bias)\n",
        "\n",
        "    for _ in range(T):\n",
        "        order = get_order(n_samples)  # Obtém a ordem dos índices para a iteração atual\n",
        "        for i in order:\n",
        "            x_i = feature_matrix[i]  # Vetor de características do i-ésimo exemplo\n",
        "            y_i = labels[i]          # Rótulo correto do i-ésimo exemplo\n",
        "\n",
        "            # Calcula a margem: y_i * (θ·x_i + θ_0)\n",
        "            margin = y_i * (np.dot(theta, x_i) + theta_0)\n",
        "\n",
        "            # Se a margem for <= 0, atualiza θ e θ_0\n",
        "            if margin <= 0:\n",
        "                theta += y_i * x_i\n",
        "                theta_0 += y_i\n",
        "\n",
        "    return theta, theta_0"
      ],
      "metadata": {
        "id": "wQg5BxzegsBy"
      },
      "execution_count": 6,
      "outputs": []
    },
    {
      "cell_type": "code",
      "source": [
        "# Chama a função perceptron com dados de amostra\n",
        "feature_matrix = np.array([[1, 2], [3, 4], [5, 6]])  # Exemplo de matriz de recursos\n",
        "labels = np.array([1, -1, 1])  # Examplo de rótulos\n",
        "T = 10  # Número de épocas\n",
        "\n",
        "# Obtém os valores retornados pela função\n",
        "theta, theta_0 = perceptron(feature_matrix, labels, T)\n",
        "\n",
        "# Exibe os resultados\n",
        "print(\"Vetor de pesos final:\", theta)\n",
        "print(\"Termo de viés (bias) final:\", theta_0)"
      ],
      "metadata": {
        "colab": {
          "base_uri": "https://localhost:8080/"
        },
        "id": "qadTycQniJSx",
        "outputId": "fc71a147-4a69-49e1-c888-a66a89559e8a"
      },
      "execution_count": 7,
      "outputs": [
        {
          "output_type": "stream",
          "name": "stdout",
          "text": [
            "Vetor de pesos final: [2. 0.]\n",
            "Termo de viés (bias) final: -2.0\n"
          ]
        }
      ]
    },
    {
      "cell_type": "markdown",
      "source": [
        "## **Aplicação do Algoritmo**\n",
        "\n",
        "O exemplo a seguir aplica o algoritmo Perceptron através da origem em um conjunto de treinamento com três pontos:\n",
        "- $x^{(1)} = [-1, -1]$, $y^{(1)} = 1$\n",
        "- $x^{(2)} = [1, 0]$, $y^{(2)} = -1$\n",
        "- $x^{(3)} = [-1, 1.5]$, $y^{(3)} = 1$\n",
        "\n",
        "O algoritmo começa com $\\theta^{(0)} = 0$. O primeiro ponto é sempre considerado um erro, então, percorre os pontos seguintes em ordem até que não haja mais erros.\n",
        "\n",
        "### Explicação do Código:\n",
        "- **X**: Matriz de características onde cada linha é um ponto de dados.\n",
        "- **y**: Vetor de rótulos correspondentes.\n",
        "- **theta**: Vetor de pesos que o algoritmo tenta aprender.\n",
        "- **max_iter**: Número máximo de iterações para evitar loops infinitos.\n",
        "\n",
        "O código percorre os pontos de dados, atualizando o vetor de pesos sempre que um erro de classificação é detectado. O processo é repetido até que não haja mais erros ou até que o número máximo de iterações seja atingido.\n",
        "\n",
        "### **Número de erros até a convergência, começando com $x^{(1)}$**\n",
        "\n",
        "---\n",
        "\n",
        "\n"
      ],
      "metadata": {
        "id": "K_WlQn7J5xkR"
      }
    },
    {
      "cell_type": "code",
      "source": [
        "# Erros do algoritmo perceptron_through_origin até a convergência, começando com o ponto de dados x_1, [-1, -1].\n",
        "def perceptron_through_origin(X, y, max_iter=100):\n",
        "    theta = np.zeros(X.shape[1])\n",
        "    mistakes = 0\n",
        "    for _ in range(max_iter):\n",
        "        for i in range(X.shape[0]): # Começando por x_1\n",
        "            if y[i] * np.dot(X[i], theta) <= 0:\n",
        "                theta += y[i] * X[i]\n",
        "                mistakes += 1\n",
        "        if mistakes == 0:\n",
        "            break\n",
        "    return theta, mistakes\n",
        "\n",
        "# Dados de treinamento\n",
        "X = np.array([[-1, -1], [1, 0], [-1, 1.5]])\n",
        "y = np.array([1, -1, 1])\n",
        "\n",
        "# Aplicando o Perceptron\n",
        "theta, mistakes = perceptron_through_origin(X, y)\n",
        "print(\"Vetor de pesos final:\", theta)\n",
        "print(\"Número de erros até a convergência:\", mistakes)"
      ],
      "metadata": {
        "colab": {
          "base_uri": "https://localhost:8080/"
        },
        "id": "tXiu4Yw65paP",
        "outputId": "f4d7833d-0b58-4af0-ccb0-b2219b0d685b"
      },
      "execution_count": null,
      "outputs": [
        {
          "output_type": "stream",
          "name": "stdout",
          "text": [
            "Vetor de pesos final: [-2.   0.5]\n",
            "Número de erros até a convergência: 2\n"
          ]
        }
      ]
    },
    {
      "cell_type": "markdown",
      "source": [
        "**Passos:**\n",
        "1. **Primeiro ponto $(x^{(1)})$**:\n",
        "   - $\\theta \\cdot x^{(1)} = 0$ (erro).\n",
        "   - Atualize $\\theta = \\theta + y^{(1)} x^{(1)} = [0, 0] + 1 \\cdot [-1, -1] = [-1, -1]$.\n",
        "\n",
        "2. **Segundo ponto $(x^{(2)})$**:\n",
        "   - $\\theta \\cdot x^{(2)} = [-1, -1] \\cdot [1, 0] = -1$ (correto, pois $y^{(2)} = -1$).\n",
        "\n",
        "3. **Terceiro ponto $(x^{(3)})$**:\n",
        "   - $\\theta \\cdot x^{(3)} = [-1, -1] \\cdot [-1, 1.5] = 1 - 1.5 = -0.5$ (erro, pois $y^{(3)} = 1$).\n",
        "   - Atualize $\\theta = \\theta + y^{(3)} x^{(3)} = [-1, -1] + 1 \\cdot [-1, 1.5] = [-2, 0.5]$.\n",
        "\n",
        "4. **Repetir o ciclo**:\n",
        "   - **Primeiro ponto $(x^{(1)})$**:\n",
        "     - $\\theta \\cdot x^{(1)} = [-2, 0.5] \\cdot [-1, -1] = 2 - 0.5 = 1.5$ (correto).\n",
        "   - **Segundo ponto $(x^{(2)}$)**:\n",
        "     - $\\theta \\cdot x^{(2)} = [-2, 0.5] \\cdot [1, 0] = -2$ (correto).\n",
        "   - **Terceiro ponto $(x^{(3)}$)**:\n",
        "     - $\\theta \\cdot x^{(3)} = [-2, 0.5] \\cdot [-1, 1.5] = 2 + 0.75 = 2.75$ (correto).\n",
        "\n",
        "**Número de erros:** 2\n",
        "\n",
        "**Progressão de $\\theta$:** $[[-1, -1],...,[-2, 0.5]]$\n",
        "\n",
        "---\n",
        "\n",
        "### **Número de erros até a convergência, começando com $x^{(2)}$**\n"
      ],
      "metadata": {
        "id": "XZMQ6Z73_8--"
      }
    },
    {
      "cell_type": "code",
      "source": [
        "# Erros do algoritmo perceptron_through_origin até a convergência, começando com o ponto de dados x_2, [1, 0].\n",
        "def perceptron_through_origin(X, y, max_iter=100):\n",
        "    theta = np.zeros(X.shape[1])\n",
        "    mistakes = 0\n",
        "    for _ in range(max_iter):\n",
        "        for i in range(X.shape[1]): # Começando por x_2\n",
        "            if y[i] * np.dot(X[i], theta) <= 0:\n",
        "                theta += y[i] * X[i]\n",
        "                mistakes += 1\n",
        "        if mistakes == 0:\n",
        "            break\n",
        "    return theta, mistakes\n",
        "\n",
        "# Dados de treinamento\n",
        "X = np.array([[-1, -1], [1, 0], [-1, 1.5]])\n",
        "y = np.array([1, -1, 1])\n",
        "\n",
        "# Aplicando o Perceptron, começando com x_1\n",
        "theta, mistakes = perceptron_through_origin(X, y)\n",
        "print(\"Vetor de pesos final:\", theta)\n",
        "print(\"Número de erros até a convergência:\", mistakes)"
      ],
      "metadata": {
        "colab": {
          "base_uri": "https://localhost:8080/"
        },
        "id": "G0EjyM9B6QK8",
        "outputId": "b07b2358-1c9a-49ef-bbb8-faa8d4d1904b"
      },
      "execution_count": null,
      "outputs": [
        {
          "output_type": "stream",
          "name": "stdout",
          "text": [
            "Vetor de pesos final: [-1. -1.]\n",
            "Número de erros até a convergência: 1\n"
          ]
        }
      ]
    },
    {
      "cell_type": "markdown",
      "source": [
        "**Passos:**\n",
        "1. **Primeiro ponto $(x^{(2)}$)**:\n",
        "   - $\\theta \\cdot x^{(2)} = 0$ (erro).\n",
        "   - Atualize $\\theta = \\theta + y^{(2)} x^{(2)} = [0, 0] + (-1) \\cdot [1, 0] = [-1, 0]$.\n",
        "\n",
        "2. **Segundo ponto $(x^{(3)}$)**:\n",
        "   - $\\theta \\cdot x^{(3)} = [-1, 0] \\cdot [-1, 1.5] = 1$ (correto).\n",
        "\n",
        "3. **Terceiro ponto $(x^{(1)}$)**:\n",
        "   - $\\theta \\cdot x^{(1)} = [-1, 0] \\cdot [-1, -1] = 1$ (correto).\n",
        "\n",
        "4. **Repetir o ciclo**:\n",
        "   - **Primeiro ponto $(x^{(2)}$)**:\n",
        "     - $\\theta \\cdot x^{(2)} = [-1, 0] \\cdot [1, 0] = -1$ (correto).\n",
        "   - **Segundo ponto $(x^{(3)}$)**:\n",
        "     - $\\theta \\cdot x^{(3)} = [-1, 0] \\cdot [-1, 1.5] = 1$ (correto).\n",
        "   - **Terceiro ponto $(x^{(1)}$)**:\n",
        "     - $\\theta \\cdot x^{(1)} = [-1, 0] \\cdot [-1, -1] = 1$ (correto).\n",
        "\n",
        "**Número de erros:** 1\n",
        "\n",
        "**Progressão de $\\theta$:** $[[-1, 0]]$"
      ],
      "metadata": {
        "id": "Pmzb7oePAMWw"
      }
    },
    {
      "cell_type": "markdown",
      "source": [
        "## **Algoritmo do Perceptron Médio (_Average Perceptron_)**\n",
        "\n",
        "---\n",
        "O Perceptron Médio é uma variante do Perceptron Completo, o mesmo retorna os pesos médios ao longo das iterações, em vez de apenas os pesos finais. Com efeito, isto melhora a estabilidade do modelo, reduzindo a sensibilidade a outliers.\n",
        "\n",
        "**Observações**:\n",
        "- A atualização dos pesos ocorre apenas quando um exemplo está **classificado incorretamente**, ou seja, quando $ `y_i * (\\theta ⋅ x_i + \\theta_0) <= 0` $.\n",
        "- O vetor de pesos médio é calculado acumulando todas as atualizações de $\\theta$ e $\\theta_0$ e dividindo pelo número de atualizações.\n",
        "- A função `get_order(n_samples)` definida previamente serve para gerar uma ordem aleatória dos exemplos cada época, o que pode ajudar na convergência."
      ],
      "metadata": {
        "id": "WfOi_gMInVK9"
      }
    },
    {
      "cell_type": "code",
      "source": [
        "def average_perceptron(feature_matrix, labels, T):\n",
        "    \"\"\"\n",
        "    Implementa o algoritmo do Perceptron Médio (Average Perceptron).\n",
        "\n",
        "    Parâmetros:\n",
        "    feature_matrix : np.array, shape (n_samples, n_features), matriz de características,\n",
        "        cada linha representa um exemplo de treinamento\n",
        "        e cada coluna representa uma característica.\n",
        "    labels : np.array, shape (n_samples,), vetor contendo os rótulos dos exemplos de treinamento,\n",
        "        assumindo valores {+1, -1}.\n",
        "    T : int, número de épocas (iterações completas sobre o conjunto de dados).\n",
        "\n",
        "    Retorno:\n",
        "    avg_theta : np.array, shape (n_features,), vetor de pesos médios aprendidos pelo Perceptron Médio.\n",
        "    avg_theta_0 : float, termo de viés médio aprendido pelo Perceptron Médio.\n",
        "    \"\"\"\n",
        "\n",
        "    n_samples, n_features = feature_matrix.shape\n",
        "\n",
        "    # Inicialização dos vetores de pesos\n",
        "    theta = np.zeros(n_features, dtype=float)  # Vetor de pesos\n",
        "    theta_0 = 0.0  # Viés\n",
        "\n",
        "    # Variáveis para acumular os valores das atualizações\n",
        "    sum_theta = np.zeros(n_features, dtype=float)\n",
        "    sum_theta_0 = 0.0\n",
        "    count = 0  # Contador de atualizações\n",
        "\n",
        "    for _ in range(T):\n",
        "        order = get_order(n_samples)  # Obtém a ordem dos índices para a iteração atual\n",
        "        for i in order:\n",
        "            x_i = feature_matrix[i]  # Vetor de características do i-ésimo exemplo\n",
        "            y_i = labels[i]          # Rótulo correto do i-ésimo exemplo\n",
        "\n",
        "            # Calcula a margem de decisão: y_i * (θ·x_i + θ_0)\n",
        "            margin = y_i * (np.dot(theta, x_i) + theta_0)\n",
        "\n",
        "            # Se a margem for <= 0, atualiza θ e θ_0\n",
        "            if margin <= 0:\n",
        "                theta += y_i * x_i\n",
        "                theta_0 += y_i\n",
        "\n",
        "            # Acumula os valores para a média\n",
        "            sum_theta += theta\n",
        "            sum_theta_0 += theta_0\n",
        "            count += 1\n",
        "\n",
        "    # Calcula a média dos pesos se houver atualizações\n",
        "    if count == 0:\n",
        "        return theta, theta_0\n",
        "    else:\n",
        "        avg_theta = sum_theta / count\n",
        "        avg_theta_0 = sum_theta_0 / count\n",
        "        return avg_theta, avg_theta_0\n",
        "\n",
        "print(\"Vetor de pesos final:\", theta)\n",
        "print(\"Termo de viés (bias) final:\", theta_0)"
      ],
      "metadata": {
        "colab": {
          "base_uri": "https://localhost:8080/"
        },
        "id": "MpnyyAqznP-B",
        "outputId": "6234e585-cb88-432d-bb3c-b6a157661ce3"
      },
      "execution_count": 8,
      "outputs": [
        {
          "output_type": "stream",
          "name": "stdout",
          "text": [
            "Vetor de pesos final: [2. 0.]\n",
            "Termo de viés (bias) final: -2.0\n"
          ]
        }
      ]
    },
    {
      "cell_type": "markdown",
      "source": [
        "### **Treinamento com o Perceptron**\n",
        "\n",
        "---\n",
        "\n",
        "\n",
        "\n",
        "1. **Classe `Perceptron`**:\n",
        "   - O método `fit` implementa o algoritmo de aprendizado do Perceptron.\n",
        "   - O método `predict` aplica o modelo treinado para classificar novos exemplos.\n",
        "\n",
        "2. **Treinamento**:\n",
        "   - O modelo é treinado com um pequeno conjunto de dados bidimensional $ X $.\n",
        "   - Durante o treinamento, o modelo ajusta os pesos e o bias de acordo com os erros.\n",
        "\n",
        "3. **Predição**:\n",
        "   - Após o treinamento, é possível fazer previsões para novos exemplos.\n",
        "\n",
        "4. **Visualização**:\n",
        "   - A fronteira de decisão do Perceptron é plotada para mostrar como os pontos foram separados."
      ],
      "metadata": {
        "id": "a99O5FQH18kJ"
      }
    },
    {
      "cell_type": "code",
      "execution_count": 10,
      "metadata": {
        "colab": {
          "base_uri": "https://localhost:8080/"
        },
        "id": "MaHnIR7HLJB9",
        "outputId": "d631f6c4-76f0-479a-e20f-ba55a71abc31"
      },
      "outputs": [
        {
          "output_type": "stream",
          "name": "stdout",
          "text": [
            "Previsões: [-1. -1.]\n"
          ]
        }
      ],
      "source": [
        "class Perceptron:\n",
        "    def __init__(self, max_iter=1000):\n",
        "        self.w = None\n",
        "        self.b = 0\n",
        "        self.max_iter = max_iter\n",
        "\n",
        "    def fit(self, X, y):\n",
        "        \"\"\"Treina o Perceptron com os dados de entrada X e rótulos y.\"\"\"\n",
        "        n_samples, n_features = X.shape\n",
        "        self.w = np.zeros(n_features)\n",
        "        self.b = 0\n",
        "\n",
        "        for _ in range(self.max_iter):\n",
        "            erro = False\n",
        "            for i in range(n_samples):\n",
        "                if y[i] * (np.dot(self.w, X[i]) + self.b) <= 0:\n",
        "                    self.w += y[i] * X[i]\n",
        "                    self.b += y[i]\n",
        "                    erro = True\n",
        "            if not erro:\n",
        "                break\n",
        "\n",
        "    def predict(self, X):\n",
        "        \"\"\"Retorna a previsão para um conjunto de dados X.\"\"\"\n",
        "        return np.sign(np.dot(X, self.w) + self.b)\n",
        "\n",
        "# Gerando um conjunto de dados simples\n",
        "np.random.seed(1)\n",
        "X = np.array([[2, 3], [1, 1], [4, 5], [2, 4], [3, 3], [5, 6]])\n",
        "y = np.array([1, -1, 1, -1, -1, 1])  # Rótulos binários\n",
        "\n",
        "# Treinando o Perceptron\n",
        "model = Perceptron(max_iter=1000)\n",
        "model.fit(X, y)\n",
        "\n",
        "# Testando o modelo\n",
        "X_test = np.array([[3, 4], [1, 2]])\n",
        "predictions = model.predict(X_test)\n",
        "print(\"Previsões:\", predictions)"
      ]
    },
    {
      "cell_type": "code",
      "source": [
        "# Visualizando a fronteira de decisão\n",
        "def plot_decision_boundary(model, X, y):\n",
        "    x_min, x_max = X[:, 0].min() - 1, X[:, 0].max() + 1\n",
        "    y_min, y_max = X[:, 1].min() - 1, X[:, 1].max() + 1\n",
        "    xx, yy = np.meshgrid(np.linspace(x_min, x_max, 100), np.linspace(y_min, y_max, 100))\n",
        "    Z = model.predict(np.c_[xx.ravel(), yy.ravel()])\n",
        "    Z = Z.reshape(xx.shape)\n",
        "\n",
        "    plt.contourf(xx, yy, Z, alpha=0.3)\n",
        "    plt.scatter(X[:, 0], X[:, 1], c=y, edgecolors='k', cmap=plt.cm.Paired)\n",
        "    plt.xlabel(\"Feature 1\")\n",
        "    plt.ylabel(\"Feature 2\")\n",
        "    plt.title(\"Fronteira de Decisão do Perceptron\")\n",
        "    plt.show()\n",
        "\n",
        "plot_decision_boundary(model, X, y)"
      ],
      "metadata": {
        "colab": {
          "base_uri": "https://localhost:8080/",
          "height": 472
        },
        "id": "R6W77kwILTqy",
        "outputId": "88568dec-d1e9-4494-95f0-2a0d042f5475"
      },
      "execution_count": 11,
      "outputs": [
        {
          "output_type": "display_data",
          "data": {
            "text/plain": [
              "<Figure size 640x480 with 1 Axes>"
            ],
            "image/png": "[encoded data removed]"
          },
          "metadata": {}
        }
      ]
    },
    {
      "cell_type": "code",
      "source": [
        "# Calcula a saída da função Hinge Loss para os seguintes valores: 0, 0.2 e -10\n",
        "def hinge_loss(y_true, y_pred):\n",
        "  \"\"\"\n",
        "  Calcula a Hinge Loss.\n",
        "\n",
        "  Args:\n",
        "    y_true: O valor real (rótulo verdadeiro).\n",
        "    y_pred: A previsão do modelo.\n",
        "\n",
        "  Returns:\n",
        "    O valor da Hinge Loss.\n",
        "  \"\"\"\n",
        "  return max(0, 1 - y_true * y_pred)\n",
        "\n",
        "# Exemplos\n",
        "print(f\"Hinge Loss para 0: {hinge_loss(1, 0)}\")\n",
        "print(f\"Hinge Loss para 0.2: {hinge_loss(1, 0.2)}\")\n",
        "print(f\"Hinge Loss para -10: {hinge_loss(1, -10)}\")"
      ],
      "metadata": {
        "colab": {
          "base_uri": "https://localhost:8080/"
        },
        "id": "bAiZxfmSZssr",
        "outputId": "35651fee-a722-448a-9b4a-fa6f80a0afd5"
      },
      "execution_count": 12,
      "outputs": [
        {
          "output_type": "stream",
          "name": "stdout",
          "text": [
            "Hinge Loss para 0: 1\n",
            "Hinge Loss para 0.2: 0.8\n",
            "Hinge Loss para -10: 11\n"
          ]
        }
      ]
    }
  ]
}