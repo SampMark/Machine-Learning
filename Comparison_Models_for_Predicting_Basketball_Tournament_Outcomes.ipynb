{
  "nbformat": 4,
  "nbformat_minor": 0,
  "metadata": {
    "colab": {
      "provenance": [],
      "authorship_tag": "ABX9TyOV63pdh/Dfr3pEYlFVB8Ld",
      "include_colab_link": true
    },
    "kernelspec": {
      "name": "python3",
      "display_name": "Python 3"
    },
    "language_info": {
      "name": "python"
    }
  },
  "cells": [
    {
      "cell_type": "markdown",
      "metadata": {
        "id": "view-in-github",
        "colab_type": "text"
      },
      "source": [
        "<a href=\"https://colab.research.google.com/github/SampMark/Machine-Learn/blob/main/Comparison_Models_for_Predicting_Basketball_Tournament_Outcomes.ipynb\" target=\"_parent\"><img src=\"https://colab.research.google.com/assets/colab-badge.svg\" alt=\"Open In Colab\"/></a>"
      ]
    },
    {
      "cell_type": "markdown",
      "source": [
        "# **Comparação de modelos em machine learn para prever resultados de torneios de basquete**: KNN, Decision Tree, SVM, e Logistic Regression\n",
        "\n",
        "O objetivo deste código é aplicar algoritmos de Machine Learning ao conjunto de dados `basketball_train.csv`para avaliação comparativa entre modelos.\n",
        "A análise envolve as seguintes etapas:\n",
        "\n",
        "1. Carregar conjunto de dados históricos de temporadas de basquete `basketball_train.csv` .\n",
        "2. Aplicar os seguintes algoritmos em _machine learn_ e comparar os resultados entre eles:\n",
        "\n",
        "* [k-Nearest Neighbour (KNN)](https://github.com/SampMark/Machine-Learn/blob/main/K_Nearest_Neighbors.ipynb)\n",
        "* [Decision Tree](https://github.com/SampMark/Machine-Learn/blob/main/Decision_Trees.ipynb)\n",
        "* [Support Vector Machine (SVM)](https://github.com/SampMark/Machine-Learn/blob/main/SVM_Support_Vector_Machines.ipynb)\n",
        "* [Logistic Regression](https://github.com/SampMark/Machine-Learn/blob/main/Logistic_Regression.ipynb)\n",
        "\n",
        "Os resultados de cada modelo serão avaliados e comparados com base nas seguintes métricas:\n",
        "\n",
        "* Acurácia\n",
        "* Índice de Jaccard\n",
        "* F1-score\n",
        "* Log loss\n",
        "\n",
        "## **Instalando e importando as bibliotecas**\n",
        "\n",
        "---\n",
        "\n"
      ],
      "metadata": {
        "id": "htJCqIv12kL2"
      }
    },
    {
      "cell_type": "code",
      "execution_count": 1,
      "metadata": {
        "colab": {
          "base_uri": "https://localhost:8080/"
        },
        "id": "Y4E5Ly_LpAUF",
        "outputId": "2babd25e-3b07-4d43-be56-ce4af75ccacc"
      },
      "outputs": [
        {
          "output_type": "stream",
          "name": "stdout",
          "text": [
            "Requirement already satisfied: scikit-learn in /usr/local/lib/python3.11/dist-packages (1.6.0)\n",
            "Requirement already satisfied: scipy in /usr/local/lib/python3.11/dist-packages (1.13.1)\n",
            "Requirement already satisfied: seaborn in /usr/local/lib/python3.11/dist-packages (0.13.2)\n",
            "Requirement already satisfied: numpy>=1.19.5 in /usr/local/lib/python3.11/dist-packages (from scikit-learn) (1.26.4)\n",
            "Requirement already satisfied: joblib>=1.2.0 in /usr/local/lib/python3.11/dist-packages (from scikit-learn) (1.4.2)\n",
            "Requirement already satisfied: threadpoolctl>=3.1.0 in /usr/local/lib/python3.11/dist-packages (from scikit-learn) (3.5.0)\n",
            "Requirement already satisfied: pandas>=1.2 in /usr/local/lib/python3.11/dist-packages (from seaborn) (2.2.2)\n",
            "Requirement already satisfied: matplotlib!=3.6.1,>=3.4 in /usr/local/lib/python3.11/dist-packages (from seaborn) (3.10.0)\n",
            "Requirement already satisfied: contourpy>=1.0.1 in /usr/local/lib/python3.11/dist-packages (from matplotlib!=3.6.1,>=3.4->seaborn) (1.3.1)\n",
            "Requirement already satisfied: cycler>=0.10 in /usr/local/lib/python3.11/dist-packages (from matplotlib!=3.6.1,>=3.4->seaborn) (0.12.1)\n",
            "Requirement already satisfied: fonttools>=4.22.0 in /usr/local/lib/python3.11/dist-packages (from matplotlib!=3.6.1,>=3.4->seaborn) (4.55.3)\n",
            "Requirement already satisfied: kiwisolver>=1.3.1 in /usr/local/lib/python3.11/dist-packages (from matplotlib!=3.6.1,>=3.4->seaborn) (1.4.8)\n",
            "Requirement already satisfied: packaging>=20.0 in /usr/local/lib/python3.11/dist-packages (from matplotlib!=3.6.1,>=3.4->seaborn) (24.2)\n",
            "Requirement already satisfied: pillow>=8 in /usr/local/lib/python3.11/dist-packages (from matplotlib!=3.6.1,>=3.4->seaborn) (11.1.0)\n",
            "Requirement already satisfied: pyparsing>=2.3.1 in /usr/local/lib/python3.11/dist-packages (from matplotlib!=3.6.1,>=3.4->seaborn) (3.2.1)\n",
            "Requirement already satisfied: python-dateutil>=2.7 in /usr/local/lib/python3.11/dist-packages (from matplotlib!=3.6.1,>=3.4->seaborn) (2.8.2)\n",
            "Requirement already satisfied: pytz>=2020.1 in /usr/local/lib/python3.11/dist-packages (from pandas>=1.2->seaborn) (2024.2)\n",
            "Requirement already satisfied: tzdata>=2022.7 in /usr/local/lib/python3.11/dist-packages (from pandas>=1.2->seaborn) (2024.2)\n",
            "Requirement already satisfied: six>=1.5 in /usr/local/lib/python3.11/dist-packages (from python-dateutil>=2.7->matplotlib!=3.6.1,>=3.4->seaborn) (1.17.0)\n"
          ]
        }
      ],
      "source": [
        "!pip install scikit-learn scipy seaborn"
      ]
    },
    {
      "cell_type": "code",
      "source": [
        "import numpy as np\n",
        "import pandas as pd\n",
        "import matplotlib.pyplot as plt\n",
        "from matplotlib.ticker import NullFormatter\n",
        "import matplotlib.ticker as ticker\n",
        "import itertools\n",
        "from sklearn import preprocessing\n",
        "import seaborn as sns"
      ],
      "metadata": {
        "id": "OyP7cjarpEjX"
      },
      "execution_count": 2,
      "outputs": []
    },
    {
      "cell_type": "markdown",
      "source": [
        "## **Sobre o dataset `basketball_train.csv`**\n",
        "\n",
        "---\n",
        "\n",
        "\n",
        "O conjunto de dados contém o desempenho e classificação de vários times de basquete, com os seguintes campos:\n",
        "\n",
        "| Campo         | Descrição                                                                                                     | Tradução                                                                                           |\n",
        "|---------------|-------------------------------------------------------------------------------------------------------------|---------------------------------------------------------------------------------------------------|\n",
        "| TEAM          | The Division I college basketball school                                                                    | A escola de basquete universitário da Divisão I                                                  |\n",
        "| CONF          | The Athletic Conference in which the school participates (e.g., ACC = Atlantic Coast Conference, etc.)       | A conferência atlética na qual a escola participa (ex.: ACC = Conferência da Costa Atlântica)     |\n",
        "| G             | Number of games played                                                                                      | Número de jogos jogados                                                                          |\n",
        "| W             | Number of games won                                                                                        | Número de jogos vencidos                                                                         |\n",
        "| ADJOE         | Adjusted Offensive Efficiency (points scored per 100 possessions)                                           | Eficiência ofensiva ajustada (pontos marcados por 100 posses)                                    |\n",
        "| ADJDE         | Adjusted Defensive Efficiency (points allowed per 100 possessions)                                          | Eficiência defensiva ajustada (pontos permitidos por 100 posses)                                 |\n",
        "| BARTHAG       | Power Rating (Chance of beating an average Division I team)                                                 | Classificação de força (chance de vencer um time médio da Divisão I)                             |\n",
        "| EFG_O         | Effective Field Goal Percentage Shot                                                                        | Porcentagem efetiva de arremessos de campo                                                       |\n",
        "| EFG_D         | Effective Field Goal Percentage Allowed                                                                     | Porcentagem efetiva de arremessos de campo permitidos                                            |\n",
        "| TOR           | Turnover Percentage Allowed (Turnover Rate)                                                                 | Porcentagem de erros permitidos (taxa de erros)                                                  |\n",
        "| TORD          | Turnover Percentage Committed (Steal Rate)                                                                  | Porcentagem de erros cometidos (taxa de roubos)                                                  |\n",
        "| ORB           | Offensive Rebound Percentage                                                                                | Porcentagem de rebotes ofensivos                                                                |\n",
        "| DRB           | Defensive Rebound Percentage                                                                                | Porcentagem de rebotes defensivos                                                               |\n",
        "| FTR           | Free Throw Rate (How often the team shoots Free Throws)                                                     | Taxa de lances livres (frequência com que o time realiza lances livres)                         |\n",
        "| FTRD          | Free Throw Rate Allowed                                                                                     | Taxa de lances livres permitidos                                                                |\n",
        "| 2P_O          | Two-Point Shooting Percentage                                                                               | Porcentagem de arremessos de dois pontos                                                        |\n",
        "| 2P_D          | Two-Point Shooting Percentage Allowed                                                                      | Porcentagem de arremessos de dois pontos permitidos                                             |\n",
        "| 3P_O          | Three-Point Shooting Percentage                                                                             | Porcentagem de arremessos de três pontos                                                        |\n",
        "| 3P_D          | Three-Point Shooting Percentage Allowed                                                                    | Porcentagem de arremessos de três pontos permitidos                                             |\n",
        "| ADJ_T         | Adjusted Tempo (possessions per 40 minutes)                                                                 | Ritmo ajustado (posses por 40 minutos)                                                          |\n",
        "| WAB           | Wins Above Bubble (cutoff for NCAA March Madness Tournament)                                                | Vitórias acima do corte (para o torneio NCAA March Madness)                                     |\n",
        "| POSTSEASON    | Round where the team was eliminated or season ended (e.g., R64 = Round of 64, etc.)                         | Rodada em que o time foi eliminado ou terminou a temporada (ex.: R64 = Rodada de 64)            |\n",
        "| SEED          | Seed in the NCAA March Madness Tournament                                                                   | Cabeça de chave no torneio NCAA March Madness                                                   |\n",
        "| YEAR          | Season                                                                                                      | Temporada                                                                                       |\n"
      ],
      "metadata": {
        "id": "K_ozffvQ7sHS"
      }
    },
    {
      "cell_type": "markdown",
      "source": [
        "## **Importando e explorando o DataSet `basketball_train.csv`**\n",
        "\n",
        "---\n",
        "\n"
      ],
      "metadata": {
        "id": "hJgFLrlb6agR"
      }
    },
    {
      "cell_type": "code",
      "source": [
        "# Carregando os dados\n",
        "test_df = pd.read_csv('https://raw.githubusercontent.com/SampMark/files/refs/heads/main/basketball_train.csv')\n",
        "\n",
        "# Exibindo informações sobre o DataFrame\n",
        "print(f\"Número de linhas e colunas do DataSet: {test_df.shape}\")\n",
        "# print(test_df.head().to_markdown(index=False, numalign=\"left\", stralign=\"left\"))\n",
        "test_df.head()"
      ],
      "metadata": {
        "colab": {
          "base_uri": "https://localhost:8080/",
          "height": 254
        },
        "id": "EG8H6GvepLlF",
        "outputId": "0af42eb8-4ec5-415e-f386-9340735a1656"
      },
      "execution_count": 4,
      "outputs": [
        {
          "output_type": "stream",
          "name": "stdout",
          "text": [
            "Número de linhas e colunas do DataSet: (1757, 24)\n"
          ]
        },
        {
          "output_type": "execute_result",
          "data": {
            "text/plain": [
              "             TEAM CONF   G   W  ADJOE  ADJDE  BARTHAG  EFG_O  EFG_D   TOR  \\\n",
              "0  North Carolina  ACC  40  33  123.3   94.9   0.9531   52.6   48.1  15.4   \n",
              "1       Villanova   BE  40  35  123.1   90.9   0.9703   56.1   46.7  16.3   \n",
              "2      Notre Dame  ACC  36  24  118.3  103.3   0.8269   54.0   49.5  15.3   \n",
              "3        Virginia  ACC  37  29  119.9   91.0   0.9600   54.8   48.4  15.1   \n",
              "4          Kansas  B12  37  32  120.9   90.4   0.9662   55.7   45.1  17.8   \n",
              "\n",
              "   ...  FTRD  2P_O  2P_D  3P_O  3P_D  ADJ_T   WAB  POSTSEASON  SEED  YEAR  \n",
              "0  ...  30.4  53.9  44.6  32.7  36.2   71.7   8.6         2ND   1.0  2016  \n",
              "1  ...  30.0  57.4  44.1  36.2  33.9   66.7   8.9   Champions   2.0  2016  \n",
              "2  ...  26.0  52.9  46.5  37.4  36.9   65.5   2.3          E8   6.0  2016  \n",
              "3  ...  33.4  52.6  46.3  40.3  34.7   61.9   8.6          E8   1.0  2016  \n",
              "4  ...  37.3  52.7  43.4  41.3  32.5   70.1  11.6          E8   1.0  2016  \n",
              "\n",
              "[5 rows x 24 columns]"
            ],
            "text/html": [
              "\n",
              "  <div id=\"df-d6d9f0cf-a925-492a-8b0a-8281ee17b029\" class=\"colab-df-container\">\n",
              "    <div>\n",
              "<style scoped>\n",
              "    .dataframe tbody tr th:only-of-type {\n",
              "        vertical-align: middle;\n",
              "    }\n",
              "\n",
              "    .dataframe tbody tr th {\n",
              "        vertical-align: top;\n",
              "    }\n",
              "\n",
              "    .dataframe thead th {\n",
              "        text-align: right;\n",
              "    }\n",
              "</style>\n",
              "<table border=\"1\" class=\"dataframe\">\n",
              "  <thead>\n",
              "    <tr style=\"text-align: right;\">\n",
              "      <th></th>\n",
              "      <th>TEAM</th>\n",
              "      <th>CONF</th>\n",
              "      <th>G</th>\n",
              "      <th>W</th>\n",
              "      <th>ADJOE</th>\n",
              "      <th>ADJDE</th>\n",
              "      <th>BARTHAG</th>\n",
              "      <th>EFG_O</th>\n",
              "      <th>EFG_D</th>\n",
              "      <th>TOR</th>\n",
              "      <th>...</th>\n",
              "      <th>FTRD</th>\n",
              "      <th>2P_O</th>\n",
              "      <th>2P_D</th>\n",
              "      <th>3P_O</th>\n",
              "      <th>3P_D</th>\n",
              "      <th>ADJ_T</th>\n",
              "      <th>WAB</th>\n",
              "      <th>POSTSEASON</th>\n",
              "      <th>SEED</th>\n",
              "      <th>YEAR</th>\n",
              "    </tr>\n",
              "  </thead>\n",
              "  <tbody>\n",
              "    <tr>\n",
              "      <th>0</th>\n",
              "      <td>North Carolina</td>\n",
              "      <td>ACC</td>\n",
              "      <td>40</td>\n",
              "      <td>33</td>\n",
              "      <td>123.3</td>\n",
              "      <td>94.9</td>\n",
              "      <td>0.9531</td>\n",
              "      <td>52.6</td>\n",
              "      <td>48.1</td>\n",
              "      <td>15.4</td>\n",
              "      <td>...</td>\n",
              "      <td>30.4</td>\n",
              "      <td>53.9</td>\n",
              "      <td>44.6</td>\n",
              "      <td>32.7</td>\n",
              "      <td>36.2</td>\n",
              "      <td>71.7</td>\n",
              "      <td>8.6</td>\n",
              "      <td>2ND</td>\n",
              "      <td>1.0</td>\n",
              "      <td>2016</td>\n",
              "    </tr>\n",
              "    <tr>\n",
              "      <th>1</th>\n",
              "      <td>Villanova</td>\n",
              "      <td>BE</td>\n",
              "      <td>40</td>\n",
              "      <td>35</td>\n",
              "      <td>123.1</td>\n",
              "      <td>90.9</td>\n",
              "      <td>0.9703</td>\n",
              "      <td>56.1</td>\n",
              "      <td>46.7</td>\n",
              "      <td>16.3</td>\n",
              "      <td>...</td>\n",
              "      <td>30.0</td>\n",
              "      <td>57.4</td>\n",
              "      <td>44.1</td>\n",
              "      <td>36.2</td>\n",
              "      <td>33.9</td>\n",
              "      <td>66.7</td>\n",
              "      <td>8.9</td>\n",
              "      <td>Champions</td>\n",
              "      <td>2.0</td>\n",
              "      <td>2016</td>\n",
              "    </tr>\n",
              "    <tr>\n",
              "      <th>2</th>\n",
              "      <td>Notre Dame</td>\n",
              "      <td>ACC</td>\n",
              "      <td>36</td>\n",
              "      <td>24</td>\n",
              "      <td>118.3</td>\n",
              "      <td>103.3</td>\n",
              "      <td>0.8269</td>\n",
              "      <td>54.0</td>\n",
              "      <td>49.5</td>\n",
              "      <td>15.3</td>\n",
              "      <td>...</td>\n",
              "      <td>26.0</td>\n",
              "      <td>52.9</td>\n",
              "      <td>46.5</td>\n",
              "      <td>37.4</td>\n",
              "      <td>36.9</td>\n",
              "      <td>65.5</td>\n",
              "      <td>2.3</td>\n",
              "      <td>E8</td>\n",
              "      <td>6.0</td>\n",
              "      <td>2016</td>\n",
              "    </tr>\n",
              "    <tr>\n",
              "      <th>3</th>\n",
              "      <td>Virginia</td>\n",
              "      <td>ACC</td>\n",
              "      <td>37</td>\n",
              "      <td>29</td>\n",
              "      <td>119.9</td>\n",
              "      <td>91.0</td>\n",
              "      <td>0.9600</td>\n",
              "      <td>54.8</td>\n",
              "      <td>48.4</td>\n",
              "      <td>15.1</td>\n",
              "      <td>...</td>\n",
              "      <td>33.4</td>\n",
              "      <td>52.6</td>\n",
              "      <td>46.3</td>\n",
              "      <td>40.3</td>\n",
              "      <td>34.7</td>\n",
              "      <td>61.9</td>\n",
              "      <td>8.6</td>\n",
              "      <td>E8</td>\n",
              "      <td>1.0</td>\n",
              "      <td>2016</td>\n",
              "    </tr>\n",
              "    <tr>\n",
              "      <th>4</th>\n",
              "      <td>Kansas</td>\n",
              "      <td>B12</td>\n",
              "      <td>37</td>\n",
              "      <td>32</td>\n",
              "      <td>120.9</td>\n",
              "      <td>90.4</td>\n",
              "      <td>0.9662</td>\n",
              "      <td>55.7</td>\n",
              "      <td>45.1</td>\n",
              "      <td>17.8</td>\n",
              "      <td>...</td>\n",
              "      <td>37.3</td>\n",
              "      <td>52.7</td>\n",
              "      <td>43.4</td>\n",
              "      <td>41.3</td>\n",
              "      <td>32.5</td>\n",
              "      <td>70.1</td>\n",
              "      <td>11.6</td>\n",
              "      <td>E8</td>\n",
              "      <td>1.0</td>\n",
              "      <td>2016</td>\n",
              "    </tr>\n",
              "  </tbody>\n",
              "</table>\n",
              "<p>5 rows × 24 columns</p>\n",
              "</div>\n",
              "    <div class=\"colab-df-buttons\">\n",
              "\n",
              "  <div class=\"colab-df-container\">\n",
              "    <button class=\"colab-df-convert\" onclick=\"convertToInteractive('df-d6d9f0cf-a925-492a-8b0a-8281ee17b029')\"\n",
              "            title=\"Convert this dataframe to an interactive table.\"\n",
              "            style=\"display:none;\">\n",
              "\n",
              "  <svg xmlns=\"http://www.w3.org/2000/svg\" height=\"24px\" viewBox=\"0 -960 960 960\">\n",
              "    <path d=\"M120-120v-720h720v720H120Zm60-500h600v-160H180v160Zm220 220h160v-160H400v160Zm0 220h160v-160H400v160ZM180-400h160v-160H180v160Zm440 0h160v-160H620v160ZM180-180h160v-160H180v160Zm440 0h160v-160H620v160Z\"/>\n",
              "  </svg>\n",
              "    </button>\n",
              "\n",
              "  <style>\n",
              "    .colab-df-container {\n",
              "      display:flex;\n",
              "      gap: 12px;\n",
              "    }\n",
              "\n",
              "    .colab-df-convert {\n",
              "      background-color: #E8F0FE;\n",
              "      border: none;\n",
              "      border-radius: 50%;\n",
              "      cursor: pointer;\n",
              "      display: none;\n",
              "      fill: #1967D2;\n",
              "      height: 32px;\n",
              "      padding: 0 0 0 0;\n",
              "      width: 32px;\n",
              "    }\n",
              "\n",
              "    .colab-df-convert:hover {\n",
              "      background-color: #E2EBFA;\n",
              "      box-shadow: 0px 1px 2px rgba(60, 64, 67, 0.3), 0px 1px 3px 1px rgba(60, 64, 67, 0.15);\n",
              "      fill: #174EA6;\n",
              "    }\n",
              "\n",
              "    .colab-df-buttons div {\n",
              "      margin-bottom: 4px;\n",
              "    }\n",
              "\n",
              "    [theme=dark] .colab-df-convert {\n",
              "      background-color: #3B4455;\n",
              "      fill: #D2E3FC;\n",
              "    }\n",
              "\n",
              "    [theme=dark] .colab-df-convert:hover {\n",
              "      background-color: #434B5C;\n",
              "      box-shadow: 0px 1px 3px 1px rgba(0, 0, 0, 0.15);\n",
              "      filter: drop-shadow(0px 1px 2px rgba(0, 0, 0, 0.3));\n",
              "      fill: #FFFFFF;\n",
              "    }\n",
              "  </style>\n",
              "\n",
              "    <script>\n",
              "      const buttonEl =\n",
              "        document.querySelector('#df-d6d9f0cf-a925-492a-8b0a-8281ee17b029 button.colab-df-convert');\n",
              "      buttonEl.style.display =\n",
              "        google.colab.kernel.accessAllowed ? 'block' : 'none';\n",
              "\n",
              "      async function convertToInteractive(key) {\n",
              "        const element = document.querySelector('#df-d6d9f0cf-a925-492a-8b0a-8281ee17b029');\n",
              "        const dataTable =\n",
              "          await google.colab.kernel.invokeFunction('convertToInteractive',\n",
              "                                                    [key], {});\n",
              "        if (!dataTable) return;\n",
              "\n",
              "        const docLinkHtml = 'Like what you see? Visit the ' +\n",
              "          '<a target=\"_blank\" href=https://colab.research.google.com/notebooks/data_table.ipynb>data table notebook</a>'\n",
              "          + ' to learn more about interactive tables.';\n",
              "        element.innerHTML = '';\n",
              "        dataTable['output_type'] = 'display_data';\n",
              "        await google.colab.output.renderOutput(dataTable, element);\n",
              "        const docLink = document.createElement('div');\n",
              "        docLink.innerHTML = docLinkHtml;\n",
              "        element.appendChild(docLink);\n",
              "      }\n",
              "    </script>\n",
              "  </div>\n",
              "\n",
              "\n",
              "<div id=\"df-5ead58fd-7673-4e96-8cd2-9cc8e7f194da\">\n",
              "  <button class=\"colab-df-quickchart\" onclick=\"quickchart('df-5ead58fd-7673-4e96-8cd2-9cc8e7f194da')\"\n",
              "            title=\"Suggest charts\"\n",
              "            style=\"display:none;\">\n",
              "\n",
              "<svg xmlns=\"http://www.w3.org/2000/svg\" height=\"24px\"viewBox=\"0 0 24 24\"\n",
              "     width=\"24px\">\n",
              "    <g>\n",
              "        <path d=\"M19 3H5c-1.1 0-2 .9-2 2v14c0 1.1.9 2 2 2h14c1.1 0 2-.9 2-2V5c0-1.1-.9-2-2-2zM9 17H7v-7h2v7zm4 0h-2V7h2v10zm4 0h-2v-4h2v4z\"/>\n",
              "    </g>\n",
              "</svg>\n",
              "  </button>\n",
              "\n",
              "<style>\n",
              "  .colab-df-quickchart {\n",
              "      --bg-color: #E8F0FE;\n",
              "      --fill-color: #1967D2;\n",
              "      --hover-bg-color: #E2EBFA;\n",
              "      --hover-fill-color: #174EA6;\n",
              "      --disabled-fill-color: #AAA;\n",
              "      --disabled-bg-color: #DDD;\n",
              "  }\n",
              "\n",
              "  [theme=dark] .colab-df-quickchart {\n",
              "      --bg-color: #3B4455;\n",
              "      --fill-color: #D2E3FC;\n",
              "      --hover-bg-color: #434B5C;\n",
              "      --hover-fill-color: #FFFFFF;\n",
              "      --disabled-bg-color: #3B4455;\n",
              "      --disabled-fill-color: #666;\n",
              "  }\n",
              "\n",
              "  .colab-df-quickchart {\n",
              "    background-color: var(--bg-color);\n",
              "    border: none;\n",
              "    border-radius: 50%;\n",
              "    cursor: pointer;\n",
              "    display: none;\n",
              "    fill: var(--fill-color);\n",
              "    height: 32px;\n",
              "    padding: 0;\n",
              "    width: 32px;\n",
              "  }\n",
              "\n",
              "  .colab-df-quickchart:hover {\n",
              "    background-color: var(--hover-bg-color);\n",
              "    box-shadow: 0 1px 2px rgba(60, 64, 67, 0.3), 0 1px 3px 1px rgba(60, 64, 67, 0.15);\n",
              "    fill: var(--button-hover-fill-color);\n",
              "  }\n",
              "\n",
              "  .colab-df-quickchart-complete:disabled,\n",
              "  .colab-df-quickchart-complete:disabled:hover {\n",
              "    background-color: var(--disabled-bg-color);\n",
              "    fill: var(--disabled-fill-color);\n",
              "    box-shadow: none;\n",
              "  }\n",
              "\n",
              "  .colab-df-spinner {\n",
              "    border: 2px solid var(--fill-color);\n",
              "    border-color: transparent;\n",
              "    border-bottom-color: var(--fill-color);\n",
              "    animation:\n",
              "      spin 1s steps(1) infinite;\n",
              "  }\n",
              "\n",
              "  @keyframes spin {\n",
              "    0% {\n",
              "      border-color: transparent;\n",
              "      border-bottom-color: var(--fill-color);\n",
              "      border-left-color: var(--fill-color);\n",
              "    }\n",
              "    20% {\n",
              "      border-color: transparent;\n",
              "      border-left-color: var(--fill-color);\n",
              "      border-top-color: var(--fill-color);\n",
              "    }\n",
              "    30% {\n",
              "      border-color: transparent;\n",
              "      border-left-color: var(--fill-color);\n",
              "      border-top-color: var(--fill-color);\n",
              "      border-right-color: var(--fill-color);\n",
              "    }\n",
              "    40% {\n",
              "      border-color: transparent;\n",
              "      border-right-color: var(--fill-color);\n",
              "      border-top-color: var(--fill-color);\n",
              "    }\n",
              "    60% {\n",
              "      border-color: transparent;\n",
              "      border-right-color: var(--fill-color);\n",
              "    }\n",
              "    80% {\n",
              "      border-color: transparent;\n",
              "      border-right-color: var(--fill-color);\n",
              "      border-bottom-color: var(--fill-color);\n",
              "    }\n",
              "    90% {\n",
              "      border-color: transparent;\n",
              "      border-bottom-color: var(--fill-color);\n",
              "    }\n",
              "  }\n",
              "</style>\n",
              "\n",
              "  <script>\n",
              "    async function quickchart(key) {\n",
              "      const quickchartButtonEl =\n",
              "        document.querySelector('#' + key + ' button');\n",
              "      quickchartButtonEl.disabled = true;  // To prevent multiple clicks.\n",
              "      quickchartButtonEl.classList.add('colab-df-spinner');\n",
              "      try {\n",
              "        const charts = await google.colab.kernel.invokeFunction(\n",
              "            'suggestCharts', [key], {});\n",
              "      } catch (error) {\n",
              "        console.error('Error during call to suggestCharts:', error);\n",
              "      }\n",
              "      quickchartButtonEl.classList.remove('colab-df-spinner');\n",
              "      quickchartButtonEl.classList.add('colab-df-quickchart-complete');\n",
              "    }\n",
              "    (() => {\n",
              "      let quickchartButtonEl =\n",
              "        document.querySelector('#df-5ead58fd-7673-4e96-8cd2-9cc8e7f194da button');\n",
              "      quickchartButtonEl.style.display =\n",
              "        google.colab.kernel.accessAllowed ? 'block' : 'none';\n",
              "    })();\n",
              "  </script>\n",
              "</div>\n",
              "\n",
              "    </div>\n",
              "  </div>\n"
            ],
            "application/vnd.google.colaboratory.intrinsic+json": {
              "type": "dataframe",
              "variable_name": "test_df"
            }
          },
          "metadata": {},
          "execution_count": 4
        }
      ]
    },
    {
      "cell_type": "code",
      "source": [
        "# Exibindo informações resumidas sobre o DataFrame\n",
        "test_df.info()"
      ],
      "metadata": {
        "colab": {
          "base_uri": "https://localhost:8080/"
        },
        "id": "E3JCeO2orj-m",
        "outputId": "294ee677-6693-4c31-a525-b737787dec19"
      },
      "execution_count": 5,
      "outputs": [
        {
          "output_type": "stream",
          "name": "stdout",
          "text": [
            "<class 'pandas.core.frame.DataFrame'>\n",
            "RangeIndex: 1757 entries, 0 to 1756\n",
            "Data columns (total 24 columns):\n",
            " #   Column      Non-Null Count  Dtype  \n",
            "---  ------      --------------  -----  \n",
            " 0   TEAM        1757 non-null   object \n",
            " 1   CONF        1757 non-null   object \n",
            " 2   G           1757 non-null   int64  \n",
            " 3   W           1757 non-null   int64  \n",
            " 4   ADJOE       1757 non-null   float64\n",
            " 5   ADJDE       1757 non-null   float64\n",
            " 6   BARTHAG     1757 non-null   float64\n",
            " 7   EFG_O       1757 non-null   float64\n",
            " 8   EFG_D       1757 non-null   float64\n",
            " 9   TOR         1757 non-null   float64\n",
            " 10  TORD        1757 non-null   float64\n",
            " 11  ORB         1757 non-null   float64\n",
            " 12  DRB         1757 non-null   float64\n",
            " 13  FTR         1757 non-null   float64\n",
            " 14  FTRD        1757 non-null   float64\n",
            " 15  2P_O        1757 non-null   float64\n",
            " 16  2P_D        1757 non-null   float64\n",
            " 17  3P_O        1757 non-null   float64\n",
            " 18  3P_D        1757 non-null   float64\n",
            " 19  ADJ_T       1757 non-null   float64\n",
            " 20  WAB         1757 non-null   float64\n",
            " 21  POSTSEASON  340 non-null    object \n",
            " 22  SEED        340 non-null    float64\n",
            " 23  YEAR        1406 non-null   object \n",
            "dtypes: float64(18), int64(2), object(4)\n",
            "memory usage: 329.6+ KB\n"
          ]
        }
      ]
    },
    {
      "cell_type": "code",
      "source": [
        "# Cria a coluna 'windex' com base na condição WAB > 7\n",
        "test_df['windex'] = np.where(test_df.WAB > 7, 'True', 'False')\n",
        "\n",
        "# Filtra o DataFrame para incluir apenas as linhas com 'F4', 'S16' ou 'E8' em 'POSTSEASON'\n",
        "test_df1 = test_df[test_df['POSTSEASON'].str.contains('F4|S16|E8', na=False)]\n",
        "\n",
        "# Seleciona as features relevantes\n",
        "test_Feature = test_df1[['G', 'W', 'ADJOE', 'ADJDE', 'BARTHAG', 'EFG_O', 'EFG_D',\n",
        "                         'TOR', 'TORD', 'ORB', 'DRB', 'FTR', 'FTRD', '2P_O', '2P_D', '3P_O',\n",
        "                         '3P_D', 'ADJ_T', 'WAB', 'SEED', 'windex']].copy()  # Garante que é uma cópia do DataFrame\n",
        "\n",
        "# Converte a coluna 'windex' para valores numéricos (0 e 1) usando .loc\n",
        "test_Feature.loc[:, 'windex'] = test_Feature['windex'].map({'False': 0, 'True': 1})\n",
        "\n",
        "# Normaliza as features usando StandardScaler\n",
        "test_X = preprocessing.StandardScaler().fit_transform(test_Feature)\n",
        "\n",
        "# Exibe as 5 primeiras linhas dos dados normalizados\n",
        "print(test_X[0:5])"
      ],
      "metadata": {
        "colab": {
          "base_uri": "https://localhost:8080/"
        },
        "id": "YlNx_NXYpPjO",
        "outputId": "7bfc897e-1fe9-4763-e84e-1b3e4ffe8db1"
      },
      "execution_count": 6,
      "outputs": [
        {
          "output_type": "stream",
          "name": "stdout",
          "text": [
            "[[-4.08074446e-01 -1.10135297e+00  3.37365934e-01  2.66479976e+00\n",
            "  -2.46831661e+00  2.13703245e-01  9.44090550e-01 -1.19216365e+00\n",
            "  -1.64348924e+00  1.45405982e-02  1.29523097e+00 -6.23533182e-01\n",
            "  -9.31788560e-01  1.42784371e-01  1.68876201e-01  2.84500844e-01\n",
            "   1.62625961e+00 -8.36649260e-01 -9.98500539e-01  4.84319174e-01\n",
            "  -6.77003200e-01]\n",
            " [ 3.63958290e-01  3.26326807e-01  7.03145068e-01 -7.13778644e-01\n",
            "   1.07370841e+00  4.82633172e-01  4.77498943e-01 -1.32975879e+00\n",
            "  -6.86193316e-02 -7.35448152e-01 -1.35447914e+00 -8.06829025e-01\n",
            "   3.41737757e-01  4.96641291e-02  9.40576311e-02  1.37214061e+00\n",
            "   6.93854620e-01 -2.00860931e+00  9.80549967e-01 -1.19401460e+00\n",
            "   1.47709789e+00]\n",
            " [ 3.63958290e-01  1.18293467e+00  9.31757027e-01 -8.78587347e-01\n",
            "   1.23870131e+00  7.85179340e-01 -9.22275877e-01  5.27775662e-01\n",
            "  -1.86734575e-01 -1.19385964e-01 -3.17636057e-01  6.82449703e-01\n",
            "   1.01292055e+00  8.07042098e-02 -9.90811637e-01  1.74718880e+00\n",
            "  -2.38550367e-01  6.60855252e-01  1.92295497e+00 -1.19401460e+00\n",
            "   1.47709789e+00]\n",
            " [ 3.63958290e-01  6.11862762e-01  3.60227129e-01  7.14563447e-01\n",
            "  -8.92254236e-02 -3.57772849e-01  6.89586037e-01 -6.41783067e-01\n",
            "   4.82585136e-01  3.89534973e-01  6.80805434e-01  1.07195337e+00\n",
            "   1.00800346e-01  4.96641291e-02  1.92390609e-02 -8.40643737e-01\n",
            "   1.32958529e+00  3.02756347e-01  3.83693465e-01 -1.19401460e+00\n",
            "  -6.77003200e-01]\n",
            " [ 3.63958290e-01 -1.38688893e+00 -1.12575060e+00  3.92401673e-04\n",
            "  -9.03545224e-01 -1.13094639e+00  1.09073363e-02  7.34168378e-01\n",
            "   5.61328631e-01  2.28823098e-01  2.52408203e+00 -5.07336709e-02\n",
            "  -5.87592258e-01 -1.62650023e+00  7.67424763e-01 -2.40566627e-01\n",
            "  -1.00142717e+00 -8.36649260e-01 -1.81525154e+00  1.82698619e+00\n",
            "  -6.77003200e-01]]\n"
          ]
        }
      ]
    },
    {
      "cell_type": "code",
      "source": [
        "test_y = test_df1['POSTSEASON'].values\n",
        "test_y[0:5]"
      ],
      "metadata": {
        "colab": {
          "base_uri": "https://localhost:8080/"
        },
        "id": "euiCmP18pSTz",
        "outputId": "faa545e3-b3a8-4115-d1a9-559a7d4c3ac6"
      },
      "execution_count": 7,
      "outputs": [
        {
          "output_type": "execute_result",
          "data": {
            "text/plain": [
              "array(['E8', 'E8', 'E8', 'E8', 'F4'], dtype=object)"
            ]
          },
          "metadata": {},
          "execution_count": 7
        }
      ]
    },
    {
      "cell_type": "code",
      "source": [
        "from sklearn.model_selection import train_test_split\n",
        "\n",
        "# Dividindo os dados em conjuntos de treinamento e validação\n",
        "X_train, X_val, y_train, y_val = train_test_split(\n",
        "    test_X, test_y,  # Changed from X, y to test_X, test_y\n",
        "    test_size=0.2,  # 20% dos dados para validação\n",
        "    random_state=4, # Controla a aleatoriedade para reprodutibilidade\n",
        "    stratify=test_y      # Changed from y to test_y to ensure stratification\n",
        ")\n",
        "\n",
        "# Exibindo as formas dos conjuntos criados\n",
        "print(f\"Conjunto de treinamento: X={X_train.shape}, y={y_train.shape}\")\n",
        "print(f\"Conjunto de teste: X={X_val.shape}, y={y_val.shape}\")"
      ],
      "metadata": {
        "colab": {
          "base_uri": "https://localhost:8080/"
        },
        "id": "kvYVv2xjtird",
        "outputId": "ae21b454-0a23-46a7-9670-cb0ba070ce30"
      },
      "execution_count": 9,
      "outputs": [
        {
          "output_type": "stream",
          "name": "stdout",
          "text": [
            "Conjunto de treinamento: X=(56, 21), y=(56,)\n",
            "Conjunto de teste: X=(14, 21), y=(14,)\n"
          ]
        }
      ]
    },
    {
      "cell_type": "markdown",
      "source": [
        "# **KNN**"
      ],
      "metadata": {
        "id": "iLuE67cIpXJP"
      }
    },
    {
      "cell_type": "code",
      "source": [
        "from sklearn.neighbors import KNeighborsClassifier\n",
        "\n",
        "# Criando o modelo KNN com k = 5\n",
        "knn_model = KNeighborsClassifier(n_neighbors=5, metric='minkowski', p=2)\n",
        "knn_model.fit(X_train, y_train)\n",
        "y_pred_knn = knn_model.predict(X_val)\n",
        "y_pred_knn[:5]"
      ],
      "metadata": {
        "colab": {
          "base_uri": "https://localhost:8080/"
        },
        "id": "d7JG0o4hpZCQ",
        "outputId": "8d2cd8a4-55b8-4ced-c72f-2acb34ec9cb9"
      },
      "execution_count": 10,
      "outputs": [
        {
          "output_type": "execute_result",
          "data": {
            "text/plain": [
              "array(['S16', 'E8', 'F4', 'E8', 'E8'], dtype=object)"
            ]
          },
          "metadata": {},
          "execution_count": 10
        }
      ]
    },
    {
      "cell_type": "markdown",
      "source": [
        "# **Decision Tree**"
      ],
      "metadata": {
        "id": "7nIv8Q54tz3r"
      }
    },
    {
      "cell_type": "code",
      "source": [
        "from sklearn.tree import DecisionTreeClassifier\n",
        "\n",
        "# Criando o modelo de Árvore de Decisão\n",
        "dt_model = DecisionTreeClassifier(criterion=\"entropy\", max_depth=4)\n",
        "dt_model.fit(X_train, y_train)\n",
        "y_pred_dt = dt_model.predict(X_val)\n",
        "y_pred_dt[:5]"
      ],
      "metadata": {
        "colab": {
          "base_uri": "https://localhost:8080/"
        },
        "id": "fn0Kbagkt3cI",
        "outputId": "57505918-b9aa-4a6e-9402-15e53deae7da"
      },
      "execution_count": 11,
      "outputs": [
        {
          "output_type": "execute_result",
          "data": {
            "text/plain": [
              "array(['E8', 'E8', 'F4', 'E8', 'S16'], dtype=object)"
            ]
          },
          "metadata": {},
          "execution_count": 11
        }
      ]
    },
    {
      "cell_type": "markdown",
      "source": [
        "# **SVM**"
      ],
      "metadata": {
        "id": "cryhCQ3Gt42k"
      }
    },
    {
      "cell_type": "code",
      "source": [
        "from sklearn.svm import SVC\n",
        "svm_model = SVC(kernel='poly', random_state=42)\n",
        "svm_model.fit(X_train, y_train)\n",
        "y_pred_svm = svm_model.predict(X_val)\n",
        "y_pred_svm[:5]"
      ],
      "metadata": {
        "colab": {
          "base_uri": "https://localhost:8080/"
        },
        "id": "wOTrd6lLt8l4",
        "outputId": "fcf50693-9628-4820-ae1c-ba1a454e214b"
      },
      "execution_count": 12,
      "outputs": [
        {
          "output_type": "execute_result",
          "data": {
            "text/plain": [
              "array(['S16', 'S16', 'S16', 'S16', 'S16'], dtype=object)"
            ]
          },
          "metadata": {},
          "execution_count": 12
        }
      ]
    },
    {
      "cell_type": "markdown",
      "source": [
        "# **Logistic Regression**"
      ],
      "metadata": {
        "id": "QD-XrI4dt_1M"
      }
    },
    {
      "cell_type": "code",
      "source": [
        "from sklearn.linear_model import LogisticRegression\n",
        "\n",
        "# Criação do modelo de Regressão Logística com C=0.01\n",
        "logreg_model = LogisticRegression(\n",
        "    solver='liblinear',  # Solucionador eficiente para problemas menores\n",
        "    random_state=42,     # Garante reprodutibilidade\n",
        "    max_iter=1000,       # Número de iterações elevado para garantir convergência\n",
        "    class_weight='balanced',  # Lida com classes desbalanceadas ajustando os pesos automaticamente\n",
        "    C=0.01               # Define a força da regularização inversa\n",
        ")\n",
        "\n",
        "# Treinamento do modelo\n",
        "logreg_model.fit(X_train, y_train)\n",
        "y_pred_logreg = logreg_model.predict(X_val)\n",
        "y_pred_logreg[:5]"
      ],
      "metadata": {
        "colab": {
          "base_uri": "https://localhost:8080/"
        },
        "id": "8i5iLnDruC3w",
        "outputId": "1e16cf20-f312-4c40-ccfe-dbd35965cb93"
      },
      "execution_count": 13,
      "outputs": [
        {
          "output_type": "execute_result",
          "data": {
            "text/plain": [
              "array(['S16', 'S16', 'F4', 'E8', 'S16'], dtype=object)"
            ]
          },
          "metadata": {},
          "execution_count": 13
        }
      ]
    },
    {
      "cell_type": "code",
      "source": [
        "from sklearn.metrics import f1_score, jaccard_score, log_loss, accuracy_score\n",
        "\n",
        "# Lista dos modelos e seus nomes\n",
        "modelos = {\n",
        "    \"KNN\": knn_model,\n",
        "    \"Decision Tree\": dt_model,\n",
        "    \"SVM\": svm_model,\n",
        "    \"Logistic Regression\": logreg_model\n",
        "}\n",
        "\n",
        "# Inicializa dicionários para armazenar os resultados\n",
        "accuracies = {}\n",
        "jaccard_scores = {}\n",
        "f1_scores = {}\n",
        "log_losses = {}\n",
        "\n",
        "# Calcula as métricas para cada modelo\n",
        "for nome, modelo in modelos.items():\n",
        "    # Faz previsões no conjunto de validação\n",
        "    y_pred = modelo.predict(X_val)\n",
        "\n",
        "    # Calcula Acurácia\n",
        "    accuracy = accuracy_score(y_val, y_pred)\n",
        "    accuracies[nome] = accuracy\n",
        "\n",
        "    # Calcula Jaccard Score\n",
        "    jaccard = jaccard_score(y_val, y_pred, average='micro')\n",
        "    jaccard_scores[nome] = jaccard\n",
        "\n",
        "    # Calcula F1 Score\n",
        "    f1 = f1_score(y_val, y_pred, average='micro')\n",
        "    f1_scores[nome] = f1\n",
        "\n",
        "    # Calcula Log Loss (apenas para modelos de classificação)\n",
        "    try:\n",
        "        y_pred_proba = modelo.predict_proba(X_val)\n",
        "        logloss = log_loss(y_val, y_pred_proba)\n",
        "        log_losses[nome] = logloss\n",
        "    except AttributeError:\n",
        "        log_losses[nome] = \"N/A\"  # Modelo não suporta predict_proba\n",
        "\n",
        "    # Exibe os resultados para o modelo atual\n",
        "    print(f\"\\n{nome} Model\")\n",
        "    print(f\"Accuracy: {accuracy:.4f}\")\n",
        "    print(f\"Jaccard Score: {jaccard:.4f}\")\n",
        "    print(f\"F1 Score: {f1:.4f}\")\n",
        "    if isinstance(log_losses[nome], (int, float)):\n",
        "        print(f\"Log Loss: {log_losses[nome]:.4f}\")\n",
        "    else:\n",
        "        print(f\"Log Loss: {log_losses[nome]}\")  # Print as is if it's not a number"
      ],
      "metadata": {
        "colab": {
          "base_uri": "https://localhost:8080/"
        },
        "id": "kfGv47BXuKVU",
        "outputId": "c5ff30dc-624a-4448-800b-74e60c4f38c8"
      },
      "execution_count": 14,
      "outputs": [
        {
          "output_type": "stream",
          "name": "stdout",
          "text": [
            "\n",
            "KNN Model\n",
            "Accuracy: 0.4286\n",
            "Jaccard Score: 0.2727\n",
            "F1 Score: 0.4286\n",
            "Log Loss: 3.2479\n",
            "\n",
            "Decision Tree Model\n",
            "Accuracy: 0.2857\n",
            "Jaccard Score: 0.1667\n",
            "F1 Score: 0.2857\n",
            "Log Loss: 13.2907\n",
            "\n",
            "SVM Model\n",
            "Accuracy: 0.5714\n",
            "Jaccard Score: 0.4000\n",
            "F1 Score: 0.5714\n",
            "Log Loss: N/A\n",
            "\n",
            "Logistic Regression Model\n",
            "Accuracy: 0.7143\n",
            "Jaccard Score: 0.5556\n",
            "F1 Score: 0.7143\n",
            "Log Loss: 1.0411\n"
          ]
        }
      ]
    },
    {
      "cell_type": "code",
      "source": [
        "# Imprime a tabela comparativa na ordem solicitada\n",
        "print(\"\\nTabela Comparativa:\")\n",
        "print(\"-\" * 65)\n",
        "print(\"{:<20} {:<10} {:<10} {:<10} {:<10}\".format(\"Model\", \"Accuracy\", \"Jaccard\", \"F1-Score\", \"LogLoss\"))\n",
        "print(\"-\" * 65)\n",
        "for nome in modelos:\n",
        "    log_loss_value = f\"{log_losses[nome]:.4f}\" if isinstance(log_losses[nome], (int, float)) else log_losses[nome]\n",
        "    print(\"{:<20} {:<10.4f} {:<10.4f} {:<10.4f} {:<10}\".format(\n",
        "        nome, accuracies[nome], jaccard_scores[nome], f1_scores[nome], log_loss_value))\n",
        "print(\"-\" * 65)"
      ],
      "metadata": {
        "colab": {
          "base_uri": "https://localhost:8080/"
        },
        "id": "f8ZjRmx-vvxi",
        "outputId": "95b0a646-d43f-4776-968c-89fa1977c946"
      },
      "execution_count": null,
      "outputs": [
        {
          "output_type": "stream",
          "name": "stdout",
          "text": [
            "\n",
            "Tabela Comparativa:\n",
            "-----------------------------------------------------------------\n",
            "Model                Accuracy   Jaccard    F1-Score   LogLoss   \n",
            "-----------------------------------------------------------------\n",
            "KNN                  0.4286     0.2727     0.4286     3.2479    \n",
            "Decision Tree        0.2143     0.1200     0.2143     15.8653   \n",
            "SVM                  0.5714     0.4000     0.5714     N/A       \n",
            "Logistic Regression  0.7143     0.5556     0.7143     1.0411    \n",
            "-----------------------------------------------------------------\n"
          ]
        }
      ]
    }
  ]
}